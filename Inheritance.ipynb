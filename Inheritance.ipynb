{
 "cells": [
  {
   "cell_type": "code",
   "execution_count": 3,
   "id": "a33dc3e0",
   "metadata": {},
   "outputs": [
    {
     "name": "stdout",
     "output_type": "stream",
     "text": [
      "Help on class Developer in module __main__:\n",
      "\n",
      "class Developer(Employee)\n",
      " |  Developer(first, last, pay)\n",
      " |  \n",
      " |  Method resolution order:\n",
      " |      Developer\n",
      " |      Employee\n",
      " |      builtins.object\n",
      " |  \n",
      " |  Data and other attributes defined here:\n",
      " |  \n",
      " |  raise_amt = 1.1\n",
      " |  \n",
      " |  ----------------------------------------------------------------------\n",
      " |  Methods inherited from Employee:\n",
      " |  \n",
      " |  __init__(self, first, last, pay)\n",
      " |      Initialize self.  See help(type(self)) for accurate signature.\n",
      " |  \n",
      " |  apply_raise(self)\n",
      " |  \n",
      " |  fullname(self)\n",
      " |  \n",
      " |  ----------------------------------------------------------------------\n",
      " |  Data descriptors inherited from Employee:\n",
      " |  \n",
      " |  __dict__\n",
      " |      dictionary for instance variables (if defined)\n",
      " |  \n",
      " |  __weakref__\n",
      " |      list of weak references to the object (if defined)\n",
      " |  \n",
      " |  ----------------------------------------------------------------------\n",
      " |  Data and other attributes inherited from Employee:\n",
      " |  \n",
      " |  num_of_emps = 2\n",
      "\n",
      "None\n",
      "Corey.Schafer@gmail.com\n",
      "Test.Employee@gmail.com\n",
      "50000\n",
      "55000\n"
     ]
    }
   ],
   "source": [
    "class Employee:\n",
    "    num_of_emps=0\n",
    "    raise_amt=1.04\n",
    "    def __init__(self,first,last,pay):\n",
    "        self.first=first\n",
    "        self.last=last\n",
    "        self.pay=pay\n",
    "        self.email=first+\".\"+last+\"@gmail.com\"\n",
    "        Employee.num_of_emps+=1\n",
    "    def fullname(self):\n",
    "        return '{} {}'.format(self.first,self.last)\n",
    "    def apply_raise(self):\n",
    "        self.pay=int(self.pay*self.raise_amt)\n",
    "\n",
    "class Developer(Employee):\n",
    "    raise_amt=1.10\n",
    "        \n",
    "dev_1=Developer(\"Corey\",\"Schafer\",50000)#The developer class inherited the employee class methods and functionalities \n",
    "dev_2=Developer(\"Test\",\"Employee\",60000)\n",
    "\n",
    "print(help(Developer))\n",
    "print(dev_1.email)\n",
    "print(dev_2.email)\n",
    "\n",
    "print(dev_1.pay)\n",
    "dev_1.apply_raise()\n",
    "print(dev_1.pay)"
   ]
  },
  {
   "cell_type": "code",
   "execution_count": 5,
   "id": "e85fc966",
   "metadata": {},
   "outputs": [
    {
     "name": "stdout",
     "output_type": "stream",
     "text": [
      "Corey.Schafer@gmail.com Python\n",
      "Test.Employee@gmail.com Java\n"
     ]
    }
   ],
   "source": [
    "class Employee:\n",
    "    num_of_emps=0\n",
    "    raise_amt=1.04\n",
    "    def __init__(self,first,last,pay):\n",
    "        self.first=first\n",
    "        self.last=last\n",
    "        self.pay=pay\n",
    "        self.email=first+\".\"+last+\"@gmail.com\"\n",
    "        Employee.num_of_emps+=1\n",
    "    def fullname(self):\n",
    "        return '{} {}'.format(self.first,self.last)\n",
    "    def apply_raise(self):\n",
    "        self.pay=int(self.pay*self.raise_amt)\n",
    "\n",
    "class Developer(Employee):\n",
    "    raise_amt=1.10\n",
    "    def __init__(self,first,last,pay,prog_lang):\n",
    "        super().__init__(first,last,pay)\n",
    "        #or Employee.__init__(self,first,last,pay) \n",
    "        self.prog_lang=prog_lang\n",
    "        \n",
    "dev_1=Developer(\"Corey\",\"Schafer\",50000,\"Python\")#The developer class inherited the employee class methods and functionalities \n",
    "dev_2=Developer(\"Test\",\"Employee\",60000,\"Java\")\n",
    "\n",
    "#print(help(Developer))\n",
    "print(dev_1.email,dev_1.prog_lang)\n",
    "print(dev_2.email,dev_2.prog_lang)\n",
    "\n",
    "#print(dev_1.pay)\n",
    "#dev_1.apply_raise()\n",
    "#print(dev_1.pay)"
   ]
  },
  {
   "cell_type": "code",
   "execution_count": 15,
   "id": "2269d031",
   "metadata": {},
   "outputs": [
    {
     "name": "stdout",
     "output_type": "stream",
     "text": [
      "Sue.Smith@gmail.com\n",
      "--> Corey Schafer\n",
      "None\n",
      "--> Corey Schafer\n",
      "--> Test Employee\n",
      "None\n",
      "--> Corey Schafer\n",
      "None\n"
     ]
    }
   ],
   "source": [
    "class Employee:\n",
    "    num_of_emps=0\n",
    "    raise_amt=1.04\n",
    "    def __init__(self,first,last,pay):\n",
    "        self.first=first\n",
    "        self.last=last\n",
    "        self.pay=pay\n",
    "        self.email=first+\".\"+last+\"@gmail.com\"\n",
    "        Employee.num_of_emps+=1\n",
    "    def fullname(self):\n",
    "        return '{} {}'.format(self.first,self.last)\n",
    "    def apply_raise(self):\n",
    "        self.pay=int(self.pay*self.raise_amt)\n",
    "\n",
    "class Developer(Employee):\n",
    "    raise_amt=1.10\n",
    "    def __init__(self,first,last,pay,prog_lang):\n",
    "        super().__init__(first,last,pay)\n",
    "        #or Employee.__init__(self,first,last,pay) \n",
    "        self.prog_lang=prog_lang\n",
    "\n",
    "class Manager(Employee):\n",
    "    def __init__(self,first,last,pay,employees=None):\n",
    "        super().__init__(first,last,pay)\n",
    "        if employees is None:\n",
    "            self.employees=[]\n",
    "        else:\n",
    "            self.employees=employees\n",
    "    def add_emp(self,emp):\n",
    "        if emp not in self.employees:\n",
    "            self.employees.append(emp)\n",
    "    def remove_emp(self,emp):\n",
    "        if emp in self.employees:\n",
    "            self.employees.remove(emp)\n",
    "    def print_emps(self):\n",
    "        for emp in self.employees:\n",
    "            if emp!=None:\n",
    "                print(\"-->\",emp.fullname())\n",
    "    \n",
    "\n",
    "dev_1=Developer(\"Corey\",\"Schafer\",50000,\"Python\")#The developer class inherited the employee class methods and functionalities \n",
    "dev_2=Developer(\"Test\",\"Employee\",60000,\"Java\")\n",
    "\n",
    "mgr_1=Manager(\"Sue\",\"Smith\",90000,[dev_1])\n",
    "\n",
    "print(mgr_1.email)\n",
    "print(mgr_1.print_emps())\n",
    "mgr_1.add_emp(dev_2)\n",
    "print(mgr_1.print_emps())\n",
    "mgr_1.remove_emp(dev_2)\n",
    "print(mgr_1.print_emps())\n",
    "\n",
    "#print(help(Developer))\n",
    "#print(dev_1.email,dev_1.prog_lang)\n",
    "#print(dev_2.email,dev_2.prog_lang)\n",
    "\n",
    "#print(dev_1.pay)\n",
    "#dev_1.apply_raise()\n",
    "#print(dev_1.pay)"
   ]
  },
  {
   "cell_type": "code",
   "execution_count": 21,
   "id": "5e2d1e4f",
   "metadata": {},
   "outputs": [
    {
     "name": "stdout",
     "output_type": "stream",
     "text": [
      "True\n",
      "True\n",
      "False\n"
     ]
    }
   ],
   "source": [
    "print(isinstance(mgr_1,Manager))\n",
    "print(isinstance(mgr_1,Employee))\n",
    "print(isinstance(mgr_1,Developer))"
   ]
  },
  {
   "cell_type": "code",
   "execution_count": 25,
   "id": "8b3b43d2",
   "metadata": {},
   "outputs": [
    {
     "name": "stdout",
     "output_type": "stream",
     "text": [
      "True\n",
      "True\n",
      "False\n"
     ]
    }
   ],
   "source": [
    "print(issubclass(Developer,Employee))\n",
    "print(issubclass(Manager,Employee))\n",
    "print((issubclass(Employee,Manager)))"
   ]
  },
  {
   "cell_type": "code",
   "execution_count": 31,
   "id": "899a7a20",
   "metadata": {},
   "outputs": [
    {
     "name": "stdout",
     "output_type": "stream",
     "text": [
      "10\n",
      "'MyClass' object has no attribute '__private_var'\n",
      "'MyClass' object has no attribute '__private_method'\n",
      "Private method called. Value is 10\n",
      "10\n",
      "Private method called. Value is 10\n"
     ]
    }
   ],
   "source": [
    "class MyClass:\n",
    "    def __init__(self, value):\n",
    "        self.__private_var = value  # Private variable\n",
    "        self.public_var = value      # Public variable\n",
    "\n",
    "    def __private_method(self):\n",
    "        return f\"Private method called. Value is {self.__private_var}\"\n",
    "\n",
    "    def public_method(self):\n",
    "        return f\"Public method called. Value is {self.public_var}\"\n",
    "\n",
    "    def access_private_method(self):\n",
    "        return self.__private_method()  # Accessing private method within the class\n",
    "\n",
    "\n",
    "# Create an instance of MyClass\n",
    "obj = MyClass(10)\n",
    "\n",
    "# Accessing public variable\n",
    "print(obj.public_var)  # Output: 10\n",
    "\n",
    "# Accessing private variable (will raise an AttributeError)\n",
    "try:\n",
    "    print(obj.__private_var)\n",
    "except AttributeError as e:\n",
    "    print(e)  # Output: 'MyClass' object has no attribute '__private_var'\n",
    "\n",
    "# Accessing private method (will raise an AttributeError)\n",
    "try:\n",
    "    print(obj.__private_method())\n",
    "except AttributeError as e:\n",
    "    print(e)  # Output: 'MyClass' object has no attribute '__private_method'\n",
    "\n",
    "# Accessing private method through a public method\n",
    "print(obj.access_private_method())  # Output: Private method called. Value is 10\n",
    "\n",
    "# Accessing private variable using name mangling\n",
    "print(obj._MyClass__private_var)  # Output: 10\n",
    "\n",
    "# Accessing private method using name mangling\n",
    "print(obj._MyClass__private_method())  # Output: Private method called. Value is 10\n"
   ]
  }
 ],
 "metadata": {
  "kernelspec": {
   "display_name": "Python 3 (ipykernel)",
   "language": "python",
   "name": "python3"
  },
  "language_info": {
   "codemirror_mode": {
    "name": "ipython",
    "version": 3
   },
   "file_extension": ".py",
   "mimetype": "text/x-python",
   "name": "python",
   "nbconvert_exporter": "python",
   "pygments_lexer": "ipython3",
   "version": "3.11.3"
  }
 },
 "nbformat": 4,
 "nbformat_minor": 5
}
