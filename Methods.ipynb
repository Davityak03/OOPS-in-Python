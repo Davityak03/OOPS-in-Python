{
 "cells": [
  {
   "cell_type": "code",
   "execution_count": 10,
   "id": "a366881e",
   "metadata": {},
   "outputs": [
    {
     "name": "stdout",
     "output_type": "stream",
     "text": [
      "1.05\n",
      "1.05\n",
      "1.05\n"
     ]
    }
   ],
   "source": [
    "class Employee:\n",
    "    num_of_emps=0\n",
    "    raise_amt=1.04\n",
    "    def __init__(self,first,last,pay):\n",
    "        self.first=first\n",
    "        self.last=last\n",
    "        self.pay=pay\n",
    "        self.email=first+\".\"+last+\"@gmail.com\"\n",
    "        Employee.num_of_emps+=1\n",
    "    def fullname(self):\n",
    "        return '{} {}'.format(self.first,self.last)\n",
    "    def apply_raise(self):\n",
    "        self.pay=int(self.pay*self.rasie_amt)\n",
    "    #class method\n",
    "    @classmethod\n",
    "    def set_raise_amt(cls,amount):\n",
    "        cls.raise_amt=amount\n",
    "        \n",
    "        \n",
    "emp_1=Employee(\"Corey\",\"Schafer\",50000)\n",
    "emp_2=Employee(\"Test\",\"Employee\",60000)\n",
    "\n",
    "Employee.set_raise_amt(1.05)\n",
    "\n",
    "print(Employee.raise_amt)\n",
    "print(emp_1.raise_amt)\n",
    "print(emp_2.raise_amt)"
   ]
  },
  {
   "cell_type": "code",
   "execution_count": 13,
   "id": "6a93f00e",
   "metadata": {},
   "outputs": [
    {
     "name": "stdout",
     "output_type": "stream",
     "text": [
      "John.Doe@gmail.com\n",
      "70000\n"
     ]
    }
   ],
   "source": [
    "emp_str_1=\"John-Doe-70000\"\n",
    "emp_str_2=\"Steve-Smith-30000\"\n",
    "emp_str_3=\"Jane-Doe-90000\"\n",
    "first,last,pay=emp_str_1.split(\"-\")\n",
    "new_emp_1=Employee(first,last,pay)\n",
    "print(new_emp_1.email)\n",
    "print(new_emp_1.pay)"
   ]
  },
  {
   "cell_type": "code",
   "execution_count": 21,
   "id": "9b36d296",
   "metadata": {},
   "outputs": [
    {
     "name": "stdout",
     "output_type": "stream",
     "text": [
      "John.Doe@gmail.com\n",
      "70000\n"
     ]
    }
   ],
   "source": [
    "#now we will create an alternative constructor using class method so as to not the parse the string\n",
    "class Employee:\n",
    "    num_of_emps=0\n",
    "    raise_amt=1.04\n",
    "    def __init__(self,first,last,pay):\n",
    "        self.first=first\n",
    "        self.last=last\n",
    "        self.pay=pay\n",
    "        self.email=first+\".\"+last+\"@gmail.com\"\n",
    "        Employee.num_of_emps+=1\n",
    "    def fullname(self):\n",
    "        return '{} {}'.format(self.first,self.last)\n",
    "    def apply_raise(self):\n",
    "        self.pay=int(self.pay*self.rasie_amt)\n",
    "    #class method\n",
    "    @classmethod\n",
    "    def set_raise_amt(cls,amount):\n",
    "        cls.raise_amt=amount\n",
    "        \n",
    "    #alternative constructor\n",
    "    @classmethod\n",
    "    def from_string(cls,emp_str):\n",
    "        first,last,pay=emp_str.split(\"-\")\n",
    "        return cls(first,last,pay)# we need to return so that the class can have it to create new employee each time\n",
    "    \n",
    "emp_str_1=\"John-Doe-70000\"\n",
    "emp_str_2=\"Steve-Smith-30000\"\n",
    "emp_str_3=\"Jane-Doe-90000\"\n",
    "new_emp_1=Employee.from_string(emp_str_1)\n",
    "print(new_emp_1.email)\n",
    "print(new_emp_1.pay)"
   ]
  },
  {
   "cell_type": "code",
   "execution_count": 25,
   "id": "7fbcdbc4",
   "metadata": {},
   "outputs": [
    {
     "name": "stdout",
     "output_type": "stream",
     "text": [
      "False\n"
     ]
    }
   ],
   "source": [
    "#static method\n",
    "class Employee:\n",
    "    num_of_emps=0\n",
    "    raise_amt=1.04\n",
    "    def __init__(self,first,last,pay):\n",
    "        self.first=first\n",
    "        self.last=last\n",
    "        self.pay=pay\n",
    "        self.email=first+\".\"+last+\"@gmail.com\"\n",
    "        Employee.num_of_emps+=1\n",
    "    def fullname(self):\n",
    "        return '{} {}'.format(self.first,self.last)\n",
    "    def apply_raise(self):\n",
    "        self.pay=int(self.pay*self.rasie_amt)\n",
    "    #class method\n",
    "    @classmethod\n",
    "    def set_raise_amt(cls,amount):\n",
    "        cls.raise_amt=amount\n",
    "########static method##########################    \n",
    "    @staticmethod\n",
    "    def is_workday(day):\n",
    "        if day.weekday()==5 or day.weekday()==6:\n",
    "            return False\n",
    "        else:\n",
    "            return True\n",
    "        \n",
    "        \n",
    "emp_1=Employee(\"Corey\",\"Schafer\",50000)\n",
    "emp_2=Employee(\"Test\",\"Employee\",60000)\n",
    "\n",
    "import datetime\n",
    "my_date=datetime.date(2024,2,24)#Its saturday that is why False is printed\n",
    "print(Employee.is_workday(my_date))"
   ]
  },
  {
   "cell_type": "code",
   "execution_count": null,
   "id": "42b1f60e",
   "metadata": {},
   "outputs": [],
   "source": []
  }
 ],
 "metadata": {
  "kernelspec": {
   "display_name": "Python 3 (ipykernel)",
   "language": "python",
   "name": "python3"
  },
  "language_info": {
   "codemirror_mode": {
    "name": "ipython",
    "version": 3
   },
   "file_extension": ".py",
   "mimetype": "text/x-python",
   "name": "python",
   "nbconvert_exporter": "python",
   "pygments_lexer": "ipython3",
   "version": "3.11.3"
  }
 },
 "nbformat": 4,
 "nbformat_minor": 5
}
