{
 "cells": [
  {
   "cell_type": "code",
   "execution_count": 1,
   "id": "4f0a32be",
   "metadata": {},
   "outputs": [
    {
     "name": "stdout",
     "output_type": "stream",
     "text": [
      "<__main__.Employee object at 0x00000210788BB6D0>\n",
      "<__main__.Employee object at 0x00000210788BA1D0>\n"
     ]
    }
   ],
   "source": [
    "class Employee:\n",
    "    pass#\n",
    "emp1=Employee()#Object1\n",
    "emp2=Employee()#Object2\n",
    "print(emp1)\n",
    "print(emp2)"
   ]
  },
  {
   "cell_type": "code",
   "execution_count": 3,
   "id": "08bb634c",
   "metadata": {},
   "outputs": [
    {
     "name": "stdout",
     "output_type": "stream",
     "text": [
      "dk@gmail.com\n",
      "hw@gmail.com\n"
     ]
    }
   ],
   "source": [
    "#Instance variables manually\n",
    "emp1.first=\"Davitya\"\n",
    "emp1.last=\"Kumar\"\n",
    "emp1.email=\"dk@gmail.com\"\n",
    "emp1.pay=50000\n",
    "\n",
    "emp2.first=\"hello\"\n",
    "emp2.last=\"world\"\n",
    "emp2.email=\"hw@gmail.com\"\n",
    "emp2.pay=40000\n",
    "\n",
    "print(emp1.email)\n",
    "print(emp2.email)"
   ]
  },
  {
   "cell_type": "code",
   "execution_count": 7,
   "id": "6137ed54",
   "metadata": {},
   "outputs": [
    {
     "name": "stdout",
     "output_type": "stream",
     "text": [
      "davitya\n"
     ]
    }
   ],
   "source": [
    "#automtically\n",
    "class Employee:\n",
    "    def __init__(self,first,last,pay):#initialise and is the instance \n",
    "        self.first=first\n",
    "        self.last=last\n",
    "        self.pay=pay\n",
    "        self.email=first+\".\"+last+\"@gmail.com\"\n",
    "emp1=Employee(\"davitya\",\"kumar\",50000)\n",
    "print(emp1.first)"
   ]
  },
  {
   "cell_type": "code",
   "execution_count": 8,
   "id": "7bd88dcb",
   "metadata": {},
   "outputs": [
    {
     "name": "stdout",
     "output_type": "stream",
     "text": [
      "davitya kumar\n"
     ]
    }
   ],
   "source": [
    "print(\"{} {}\".format(emp1.first,emp1.last))#long and not effecient "
   ]
  },
  {
   "cell_type": "code",
   "execution_count": 11,
   "id": "0b488a9a",
   "metadata": {},
   "outputs": [
    {
     "data": {
      "text/plain": [
       "'davitya kumar'"
      ]
     },
     "execution_count": 11,
     "metadata": {},
     "output_type": "execute_result"
    }
   ],
   "source": [
    "class Employee:\n",
    "    def __init__(self,first,last,pay):#initialise and is the instance \n",
    "        self.first=first\n",
    "        self.last=last\n",
    "        self.pay=pay\n",
    "        self.email=first+\".\"+last+\"@gmail.com\"\n",
    "        \n",
    "    def fullname(self):#to print the full name, its a method\n",
    "        return \"{} {}\".format(self.first,self.last)# now it can be used for other objects as weel but not for single object\n",
    "\n",
    "emp1=Employee(\"davitya\",\"kumar\",50000)\n",
    "emp1.fullname()"
   ]
  },
  {
   "cell_type": "code",
   "execution_count": 10,
   "id": "e2aac924",
   "metadata": {},
   "outputs": [
    {
     "name": "stdout",
     "output_type": "stream",
     "text": [
      "davitya kumar\n",
      "davitya kumar\n"
     ]
    }
   ],
   "source": [
    "print(emp1.fullname())#1\n",
    "print(Employee.fullname(emp1))#2\n",
    "# 1 and 2 give same output, 1 is converted to 2 in background"
   ]
  },
  {
   "cell_type": "code",
   "execution_count": 21,
   "id": "8dc69ea7",
   "metadata": {},
   "outputs": [
    {
     "name": "stdout",
     "output_type": "stream",
     "text": [
      "50000\n",
      "52000\n",
      "1.04\n",
      "1.04\n"
     ]
    }
   ],
   "source": [
    "#class variables- variables that are shared among the diff. instances\n",
    "class Employee:\n",
    "    raise_amount=1.04\n",
    "    def __init__(self,first,last,pay):#initialise and is the instance \n",
    "        self.first=first\n",
    "        self.last=last\n",
    "        self.pay=pay\n",
    "        self.email=first+\".\"+last+\"@gmail.com\"\n",
    "        \n",
    "    def fullname(self):#to print the full name, its a method\n",
    "        return \"{} {}\".format(self.first,self.last)# now it can be used for other objects as weel but not for single object\n",
    "    \n",
    "    def apply_raise(self):\n",
    "        self.pay=int(self.pay*Employee.raise_amount)# we can also use self.raise_amount in place of Employee.raise_amount\n",
    "        \n",
    "        \n",
    "emp1=Employee(\"davitya\",\"kumar\",50000)\n",
    "print(emp1.pay)\n",
    "emp1.apply_raise()\n",
    "print(emp1.pay)\n",
    "\n",
    "print(Employee.raise_amount)\n",
    "print(emp1.raise_amount)#this will check first if the emp1 instance have the variables value, if not then it will check the class if it has the value os the variable\n"
   ]
  },
  {
   "cell_type": "code",
   "execution_count": 22,
   "id": "740ed6dc",
   "metadata": {},
   "outputs": [
    {
     "name": "stdout",
     "output_type": "stream",
     "text": [
      "1.04\n",
      "1.04\n",
      "1.04\n",
      "1.06\n"
     ]
    }
   ],
   "source": [
    "print(Employee.raise_amount)\n",
    "print(emp1.raise_amount)\n",
    "emp1.raise_amount=1.06#but if it is Employee.raise_amount=1.06 then every value will change not only in the instances\n",
    "print(Employee.raise_amount)\n",
    "print(emp1.raise_amount)\n",
    "\n"
   ]
  },
  {
   "cell_type": "code",
   "execution_count": null,
   "id": "48a8a743",
   "metadata": {},
   "outputs": [],
   "source": []
  }
 ],
 "metadata": {
  "kernelspec": {
   "display_name": "Python 3 (ipykernel)",
   "language": "python",
   "name": "python3"
  },
  "language_info": {
   "codemirror_mode": {
    "name": "ipython",
    "version": 3
   },
   "file_extension": ".py",
   "mimetype": "text/x-python",
   "name": "python",
   "nbconvert_exporter": "python",
   "pygments_lexer": "ipython3",
   "version": "3.11.3"
  }
 },
 "nbformat": 4,
 "nbformat_minor": 5
}
