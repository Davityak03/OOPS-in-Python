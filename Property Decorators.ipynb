{
 "cells": [
  {
   "cell_type": "code",
   "execution_count": 2,
   "id": "1237e53f",
   "metadata": {},
   "outputs": [
    {
     "name": "stdout",
     "output_type": "stream",
     "text": [
      "John\n",
      "John.Smith@gmail.com\n",
      "John Smith\n"
     ]
    }
   ],
   "source": [
    "class Employee:\n",
    "    def __init__(self,first,last):\n",
    "        self.first=first\n",
    "        self.last=last\n",
    "        self.email=first+\".\"+last+\"@gmail.com\"\n",
    "    def fullname(self):\n",
    "        return \"{} {}\".format(self.first,self.last)\n",
    "    \n",
    "emp1=Employee(\"John\",\"Smith\")\n",
    "print(emp1.first)\n",
    "print(emp1.email)\n",
    "print(emp1.fullname())"
   ]
  },
  {
   "cell_type": "code",
   "execution_count": 3,
   "id": "d02ba061",
   "metadata": {},
   "outputs": [
    {
     "name": "stdout",
     "output_type": "stream",
     "text": [
      "Jim\n",
      "John.Smith@gmail.com\n",
      "Jim Smith\n"
     ]
    }
   ],
   "source": [
    "class Employee:\n",
    "    def __init__(self,first,last):\n",
    "        self.first=first\n",
    "        self.last=last\n",
    "        self.email=first+\".\"+last+\"@gmail.com\"\n",
    "    def fullname(self):\n",
    "        return \"{} {}\".format(self.first,self.last)\n",
    "    \n",
    "emp1=Employee(\"John\",\"Smith\")\n",
    "emp1.first=\"Jim\"\n",
    "\n",
    "\n",
    "print(emp1.first)\n",
    "print(emp1.email)#it didnt change to jim\n",
    "print(emp1.fullname())"
   ]
  },
  {
   "cell_type": "code",
   "execution_count": 4,
   "id": "7a6576b9",
   "metadata": {},
   "outputs": [
    {
     "name": "stdout",
     "output_type": "stream",
     "text": [
      "Jim\n",
      "Jim.Smith@gmail.com\n",
      "Jim Smith\n"
     ]
    }
   ],
   "source": [
    "#to counter the email problem we do-\n",
    "class Employee:\n",
    "    def __init__(self,first,last):\n",
    "        self.first=first\n",
    "        self.last=last\n",
    "        \n",
    "    def email(self):\n",
    "        return \"{}.{}@gmail.com\".format(self.first,self.last)\n",
    "    \n",
    "    def fullname(self):\n",
    "        return \"{} {}\".format(self.first,self.last)\n",
    "    \n",
    "emp1=Employee(\"John\",\"Smith\")\n",
    "emp1.first=\"Jim\"\n",
    "\n",
    "\n",
    "print(emp1.first)\n",
    "print(emp1.email())\n",
    "print(emp1.fullname())"
   ]
  },
  {
   "cell_type": "markdown",
   "id": "70c4094e",
   "metadata": {},
   "source": [
    "###### The @property decorator in Python is used to create managed attributes in classes. It allows you to define methods in a class that can be accessed like attributes, providing a way to customize the access and modification of instance attributes. This can be particularly useful for encapsulation, validation, and computation of attribute values."
   ]
  },
  {
   "cell_type": "code",
   "execution_count": 5,
   "id": "79a239de",
   "metadata": {},
   "outputs": [
    {
     "name": "stdout",
     "output_type": "stream",
     "text": [
      "Jim\n",
      "Jim.Smith@gmail.com\n",
      "Jim Smith\n"
     ]
    }
   ],
   "source": [
    "#Counter acting this problem using property decorator\n",
    "\n",
    "class Employee:\n",
    "    def __init__(self,first,last):\n",
    "        self.first=first\n",
    "        self.last=last\n",
    "#############################################\n",
    "    @property    \n",
    "    def email(self):\n",
    "        return \"{}.{}@gmail.com\".format(self.first,self.last)\n",
    "    \n",
    "    def fullname(self):\n",
    "        return \"{} {}\".format(self.first,self.last)\n",
    "    \n",
    "emp1=Employee(\"John\",\"Smith\")\n",
    "emp1.first=\"Jim\"\n",
    "\n",
    "\n",
    "print(emp1.first)\n",
    "print(emp1.email)\n",
    "print(emp1.fullname())"
   ]
  },
  {
   "cell_type": "code",
   "execution_count": 7,
   "id": "8d601a38",
   "metadata": {},
   "outputs": [
    {
     "name": "stdout",
     "output_type": "stream",
     "text": [
      "Corey\n",
      "Corey.Smith@gmail.com\n",
      "Corey Smith\n"
     ]
    }
   ],
   "source": [
    "#setter property decorator\n",
    "class Employee:\n",
    "    def __init__(self,first,last):\n",
    "        self.first=first\n",
    "        self.last=last\n",
    "    @property    \n",
    "    def email(self):\n",
    "        return \"{}.{}@gmail.com\".format(self.first,self.last)\n",
    "    @property\n",
    "    def fullname(self):\n",
    "        return \"{} {}\".format(self.first,self.last)\n",
    "####################################    \n",
    "    @fullname.setter\n",
    "    def fullname(self,name):\n",
    "        first,last=name.split(\" \")\n",
    "        self.first=first\n",
    "        self.last=last\n",
    "\n",
    "    \n",
    "emp1=Employee(\"John\",\"Smith\")\n",
    "\n",
    "emp1.fullname=\"Corey Smith\"\n",
    "\n",
    "print(emp1.first)\n",
    "print(emp1.email)\n",
    "print(emp1.fullname)"
   ]
  },
  {
   "cell_type": "code",
   "execution_count": 8,
   "id": "7bcfde59",
   "metadata": {},
   "outputs": [
    {
     "name": "stdout",
     "output_type": "stream",
     "text": [
      "Corey\n",
      "Corey.Smith@gmail.com\n",
      "Corey Smith\n",
      "Delete Name!\n"
     ]
    }
   ],
   "source": [
    "class Employee:\n",
    "    def __init__(self,first,last):\n",
    "        self.first=first\n",
    "        self.last=last\n",
    "    @property    \n",
    "    def email(self):\n",
    "        return \"{}.{}@gmail.com\".format(self.first,self.last)\n",
    "    @property\n",
    "    def fullname(self):\n",
    "        return \"{} {}\".format(self.first,self.last) \n",
    "    @fullname.setter\n",
    "    def fullname(self,name):\n",
    "        first,last=name.split(\" \")\n",
    "        self.first=first\n",
    "        self.last=last\n",
    "        \n",
    "    @fullname.deleter\n",
    "    def fullname(self):\n",
    "        print(\"Delete Name!\")\n",
    "        self.first=None\n",
    "        self.last=None\n",
    "\n",
    "    \n",
    "emp1=Employee(\"John\",\"Smith\")\n",
    "\n",
    "emp1.fullname=\"Corey Smith\"\n",
    "\n",
    "print(emp1.first)\n",
    "print(emp1.email)\n",
    "print(emp1.fullname)\n",
    "del emp1.fullname"
   ]
  },
  {
   "cell_type": "code",
   "execution_count": null,
   "id": "923da187",
   "metadata": {},
   "outputs": [],
   "source": []
  }
 ],
 "metadata": {
  "kernelspec": {
   "display_name": "Python 3 (ipykernel)",
   "language": "python",
   "name": "python3"
  },
  "language_info": {
   "codemirror_mode": {
    "name": "ipython",
    "version": 3
   },
   "file_extension": ".py",
   "mimetype": "text/x-python",
   "name": "python",
   "nbconvert_exporter": "python",
   "pygments_lexer": "ipython3",
   "version": "3.11.3"
  }
 },
 "nbformat": 4,
 "nbformat_minor": 5
}
